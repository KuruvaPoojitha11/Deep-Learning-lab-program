{
  "nbformat": 4,
  "nbformat_minor": 0,
  "metadata": {
    "colab": {
      "provenance": [],
      "authorship_tag": "ABX9TyMlU1ZMaAgJd2IEYG0jGJ07",
      "include_colab_link": true
    },
    "kernelspec": {
      "name": "python3",
      "display_name": "Python 3"
    },
    "language_info": {
      "name": "python"
    }
  },
  "cells": [
    {
      "cell_type": "markdown",
      "metadata": {
        "id": "view-in-github",
        "colab_type": "text"
      },
      "source": [
        "<a href=\"https://colab.research.google.com/github/KuruvaPoojitha11/Deep-Learning-program/blob/main/Matrix_Addition.ipynb\" target=\"_parent\"><img src=\"https://colab.research.google.com/assets/colab-badge.svg\" alt=\"Open In Colab\"/></a>"
      ]
    },
    {
      "cell_type": "code",
      "source": [
        "def create_matrix(rows, cols):\n",
        "    matrix = []\n",
        "    print(f\"Enter the elements of the {rows}x{cols} matrix:\")\n",
        "    for i in range(rows):\n",
        "        row = list(map(int, input(f\"Row {i + 1}: \").split()))\n",
        "        if len(row) != cols:\n",
        "            print(f\"Please enter exactly {cols} numbers.\")\n",
        "            return create_matrix(rows, cols)  # Re-prompt\n",
        "        matrix.append(row)\n",
        "    return matrix\n",
        "\n",
        "def add_matrices(matrix1, matrix2):\n",
        "    return [[matrix1[i][j] + matrix2[i][j] for j in range(len(matrix1[0]))] for i in range(len(matrix1))]\n",
        "\n",
        "def main():\n",
        "    rows = int(input(\"Enter number of rows: \"))\n",
        "    cols = int(input(\"Enter number of columns: \"))\n",
        "\n",
        "    print(\"Matrix 1:\")\n",
        "    matrix1 = create_matrix(rows, cols)\n",
        "\n",
        "    print(\"Matrix 2:\")\n",
        "    matrix2 = create_matrix(rows, cols)\n",
        "\n",
        "    result_matrix = add_matrices(matrix1, matrix2)\n",
        "\n",
        "    print(\"\\nMatrix 1:\")\n",
        "    for row in matrix1:\n",
        "        print(row)\n",
        "\n",
        "    print(\"\\nMatrix 2:\")\n",
        "    for row in matrix2:\n",
        "        print(row)\n",
        "\n",
        "    print(\"\\nResultant Matrix after Addition:\")\n",
        "    for row in result_matrix:\n",
        "        print(row)\n",
        "\n",
        "if __name__ == \"__main__\":\n",
        "    main()"
      ],
      "metadata": {
        "colab": {
          "base_uri": "https://localhost:8080/"
        },
        "id": "uyb1yBE0McKT",
        "outputId": "34c7f7fc-765d-4708-8210-686b91ab7052"
      },
      "execution_count": 11,
      "outputs": [
        {
          "output_type": "stream",
          "name": "stdout",
          "text": [
            "Enter number of rows: 3 \n",
            "Enter number of columns: 3\n",
            "Matrix 1:\n",
            "Enter the elements of the 3x3 matrix:\n",
            "Row 1: 1 2 3 \n",
            "Row 2: 2 3 4 \n",
            "Row 3: 3 4 5\n",
            "Matrix 2:\n",
            "Enter the elements of the 3x3 matrix:\n",
            "Row 1: 3 2 6\n",
            "Row 2: 3 6 7\n",
            "Row 3: 4 5 0\n",
            "\n",
            "Matrix 1:\n",
            "[1, 2, 3]\n",
            "[2, 3, 4]\n",
            "[3, 4, 5]\n",
            "\n",
            "Matrix 2:\n",
            "[3, 2, 6]\n",
            "[3, 6, 7]\n",
            "[4, 5, 0]\n",
            "\n",
            "Resultant Matrix after Addition:\n",
            "[4, 4, 9]\n",
            "[5, 9, 11]\n",
            "[7, 9, 5]\n"
          ]
        }
      ]
    }
  ]
}