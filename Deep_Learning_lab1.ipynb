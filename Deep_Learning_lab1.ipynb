{
  "nbformat": 4,
  "nbformat_minor": 0,
  "metadata": {
    "colab": {
      "provenance": [],
      "authorship_tag": "ABX9TyPrcZdyEZzaSy4wLRVa7Xjn",
      "include_colab_link": true
    },
    "kernelspec": {
      "name": "python3",
      "display_name": "Python 3"
    },
    "language_info": {
      "name": "python"
    }
  },
  "cells": [
    {
      "cell_type": "markdown",
      "metadata": {
        "id": "view-in-github",
        "colab_type": "text"
      },
      "source": [
        "<a href=\"https://colab.research.google.com/github/KuruvaPoojitha11/Deep-Learning-lab-program/blob/main/Deep_Learning_lab1.ipynb\" target=\"_parent\"><img src=\"https://colab.research.google.com/assets/colab-badge.svg\" alt=\"Open In Colab\"/></a>"
      ]
    },
    {
      "cell_type": "code",
      "execution_count": 1,
      "metadata": {
        "colab": {
          "base_uri": "https://localhost:8080/"
        },
        "id": "CjZRJ2HDuwS2",
        "outputId": "c56008f2-0330-4e45-a3c0-9d10d386723e"
      },
      "outputs": [
        {
          "output_type": "stream",
          "name": "stdout",
          "text": [
            "Scalar value: 5\n"
          ]
        }
      ],
      "source": [
        "import numpy as np\n",
        "# Scalar example\n",
        "scalar = np.array(5)\n",
        "print(\"Scalar value:\", scalar)"
      ]
    },
    {
      "cell_type": "markdown",
      "source": [
        "Lab 1"
      ],
      "metadata": {
        "id": "v3MNdz8-vKdg"
      }
    },
    {
      "cell_type": "code",
      "source": [
        "import numpy as np\n",
        "\n",
        "# Scalar example\n",
        "scalar = np.array(5)\n",
        "print(\"Scalar value:\", scalar)\n",
        "\n",
        "# Vector example\n",
        "vector = np.array([1, 2, 3])\n",
        "print(\"Vector values:\", vector)\n",
        "\n",
        "# 2D Tensor (Matrix) example\n",
        "matrix = np.array([[1, 2, 3], [4, 5, 6]])\n",
        "print(\"2D Tensor (Matrix):\\n\", matrix)\n",
        "\n",
        "# 3D Tensor example\n",
        "tensor_3d = np.array([[[1, 2, 3], [4, 5, 6]], [[7, 8, 9], [10, 11, 12]]])\n",
        "print(\"3D Tensor:\\n\", tensor_3d)\n",
        "\n",
        "# 4D Tensor example\n",
        "tensor_4d = np.random.rand(2, 3, 4, 5)\n",
        "print(\"Shape of 4D Tensor:\", tensor_4d.shape)\n"
      ],
      "metadata": {
        "colab": {
          "base_uri": "https://localhost:8080/"
        },
        "id": "tvRKEZvTvZn0",
        "outputId": "e040acff-1045-4ad8-df95-49426d8ec0a1"
      },
      "execution_count": 2,
      "outputs": [
        {
          "output_type": "stream",
          "name": "stdout",
          "text": [
            "Scalar value: 5\n",
            "Vector values: [1 2 3]\n",
            "2D Tensor (Matrix):\n",
            " [[1 2 3]\n",
            " [4 5 6]]\n",
            "3D Tensor:\n",
            " [[[ 1  2  3]\n",
            "  [ 4  5  6]]\n",
            "\n",
            " [[ 7  8  9]\n",
            "  [10 11 12]]]\n",
            "Shape of 4D Tensor: (2, 3, 4, 5)\n"
          ]
        }
      ]
    },
    {
      "cell_type": "markdown",
      "source": [
        "Program to predict sum of two numbers"
      ],
      "metadata": {
        "id": "dnlhKMO0vpTD"
      }
    },
    {
      "cell_type": "code",
      "source": [
        "import numpy as np\n",
        "from tensorflow.keras.models import Sequential\n",
        "from tensorflow.keras.layers import Dense\n",
        "from sklearn.model_selection import train_test_split\n",
        "\n",
        "# Step 1: Generate Training Data\n",
        "def generate_data(num_samples):\n",
        "    x1 = np.random.randint(0, 100, size=num_samples)\n",
        "    x2 = np.random.randint(0, 100, size=num_samples)\n",
        "    y = x1 + x2\n",
        "    return np.vstack((x1, x2)).T, y\n",
        "\n",
        "num_samples = 10000\n",
        "X, y = generate_data(num_samples)\n",
        "\n",
        "# Split the data into training and testing sets\n",
        "X_train, X_test, y_train, y_test = train_test_split(X, y, test_size=0.2, random_state=42)\n",
        "\n",
        "# Step 2: Define the Model\n",
        "model = Sequential()\n",
        "model.add(Dense(10, input_dim=2, activation='relu'))  # Input layer with 2 inputs\n",
        "model.add(Dense(5, activation='relu'))  # Hidden layer\n",
        "model.add(Dense(1))  # Output layer\n",
        "\n",
        "# Step 3: Compile the Model\n",
        "model.compile(optimizer='adam', loss='mean_squared_error')\n",
        "\n",
        "# Step 4: Train the Model\n",
        "model.fit(X_train, y_train, epochs=5, batch_size=64, validation_split=0.3)\n",
        "\n",
        "# Step 5: Evaluate the Model\n",
        "loss = model.evaluate(X_test, y_test)\n",
        "print(f'Test Loss: {loss}')\n",
        "\n",
        "# Make a prediction\n",
        "sample_input = np.array([[23, 45]])  # Example input\n",
        "predicted_sum = model.predict(sample_input)\n",
        "print(f'Predicted Sum: {predicted_sum[0][0]}')\n"
      ],
      "metadata": {
        "colab": {
          "base_uri": "https://localhost:8080/"
        },
        "id": "JyFFpG7swA5V",
        "outputId": "8d103c06-0936-4e9d-91f9-18e8a3dafca2"
      },
      "execution_count": 3,
      "outputs": [
        {
          "output_type": "stream",
          "name": "stdout",
          "text": [
            "Epoch 1/5\n",
            "88/88 [==============================] - 2s 5ms/step - loss: 15556.7070 - val_loss: 10771.4014\n",
            "Epoch 2/5\n",
            "88/88 [==============================] - 0s 3ms/step - loss: 7105.7666 - val_loss: 3354.0293\n",
            "Epoch 3/5\n",
            "88/88 [==============================] - 0s 3ms/step - loss: 1677.1837 - val_loss: 704.3970\n",
            "Epoch 4/5\n",
            "88/88 [==============================] - 0s 3ms/step - loss: 405.0650 - val_loss: 177.7759\n",
            "Epoch 5/5\n",
            "88/88 [==============================] - 0s 3ms/step - loss: 85.4341 - val_loss: 34.9685\n",
            "63/63 [==============================] - 0s 1ms/step - loss: 29.6243\n",
            "Test Loss: 29.624338150024414\n",
            "1/1 [==============================] - 0s 91ms/step\n",
            "Predicted Sum: 68.72559356689453\n"
          ]
        }
      ]
    },
    {
      "cell_type": "code",
      "source": [
        "import numpy as np\n",
        "from tensorflow.keras.models import Sequential\n",
        "from tensorflow.keras.layers import Dense\n",
        "from sklearn.model_selection import train_test_split\n",
        "\n",
        "# Step 1: Generate Training Data\n",
        "def generate_data(num_samples):\n",
        "    x1 = np.random.randint(0, 100, size=num_samples)\n",
        "    x2 = np.random.randint(0, 100, size=num_samples)\n",
        "    y = x1 + x2\n",
        "    return np.vstack((x1, x2)).T, y\n",
        "\n",
        "num_samples = 10000\n",
        "X, y = generate_data(num_samples)\n",
        "\n",
        "# Split the data into training and testing sets\n",
        "X_train, X_test, y_train, y_test = train_test_split(X, y, test_size=0.2, random_state=42)\n",
        "\n",
        "# Step 2: Define the Model\n",
        "model = Sequential()\n",
        "model.add(Dense(10, input_dim=2, activation='relu'))  # Input layer with 2 inputs\n",
        "model.add(Dense(5, activation='relu'))  # Hidden layer\n",
        "model.add(Dense(1))  # Output layer\n",
        "\n",
        "# Step 3: Compile the Model\n",
        "model.compile(optimizer='adam', loss='mean_squared_error')\n",
        "\n",
        "# Step 4: Train the Model\n",
        "model.fit(X_train, y_train, epochs=8, batch_size=75, validation_split=0.5)\n",
        "\n",
        "# Step 5: Evaluate the Model\n",
        "loss = model.evaluate(X_test, y_test)\n",
        "print(f'Test Loss: {loss}')\n",
        "\n",
        "# Make a prediction\n",
        "sample_input = np.array([[23, 45]])  # Example input\n",
        "predicted_sum = model.predict(sample_input)\n",
        "print(f'Predicted Sum: {predicted_sum[0][0]}')\n"
      ],
      "metadata": {
        "colab": {
          "base_uri": "https://localhost:8080/"
        },
        "id": "uphZcqHIwZLP",
        "outputId": "7b75edc1-d305-4445-edd4-4240eb29278a"
      },
      "execution_count": 4,
      "outputs": [
        {
          "output_type": "stream",
          "name": "stdout",
          "text": [
            "Epoch 1/8\n",
            "54/54 [==============================] - 1s 8ms/step - loss: 11940.2754 - val_loss: 10351.5557\n",
            "Epoch 2/8\n",
            "54/54 [==============================] - 0s 5ms/step - loss: 8080.1074 - val_loss: 5303.1538\n",
            "Epoch 3/8\n",
            "54/54 [==============================] - 0s 3ms/step - loss: 3281.5476 - val_loss: 1471.4875\n",
            "Epoch 4/8\n",
            "54/54 [==============================] - 0s 5ms/step - loss: 661.8792 - val_loss: 149.9869\n",
            "Epoch 5/8\n",
            "54/54 [==============================] - 0s 4ms/step - loss: 52.0466 - val_loss: 13.7040\n",
            "Epoch 6/8\n",
            "54/54 [==============================] - 0s 3ms/step - loss: 10.2626 - val_loss: 8.4231\n",
            "Epoch 7/8\n",
            "54/54 [==============================] - 0s 4ms/step - loss: 7.0325 - val_loss: 5.9346\n",
            "Epoch 8/8\n",
            "54/54 [==============================] - 0s 5ms/step - loss: 4.9071 - val_loss: 4.1254\n",
            "63/63 [==============================] - 0s 2ms/step - loss: 4.1963\n",
            "Test Loss: 4.1962504386901855\n",
            "1/1 [==============================] - 0s 89ms/step\n",
            "Predicted Sum: 69.50979614257812\n"
          ]
        }
      ]
    }
  ]
}