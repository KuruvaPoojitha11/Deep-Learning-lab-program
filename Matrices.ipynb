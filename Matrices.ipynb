{
  "nbformat": 4,
  "nbformat_minor": 0,
  "metadata": {
    "colab": {
      "provenance": [],
      "authorship_tag": "ABX9TyONG5XhoFrAFnzeIHvpoAHf",
      "include_colab_link": true
    },
    "kernelspec": {
      "name": "python3",
      "display_name": "Python 3"
    },
    "language_info": {
      "name": "python"
    }
  },
  "cells": [
    {
      "cell_type": "markdown",
      "metadata": {
        "id": "view-in-github",
        "colab_type": "text"
      },
      "source": [
        "<a href=\"https://colab.research.google.com/github/KuruvaPoojitha11/Deep-Learning-lab-program/blob/main/Matrices.ipynb\" target=\"_parent\"><img src=\"https://colab.research.google.com/assets/colab-badge.svg\" alt=\"Open In Colab\"/></a>"
      ]
    },
    {
      "cell_type": "markdown",
      "source": [
        "Addition of Matrices"
      ],
      "metadata": {
        "id": "EJ4c5ZcLT283"
      }
    },
    {
      "cell_type": "code",
      "source": [
        "def create_matrix(rows, cols):\n",
        "    matrix = []\n",
        "    print(f\"Enter the elements of the {rows}x{cols} matrix:\")\n",
        "    for i in range(rows):\n",
        "        row = list(map(int, input(f\"Row {i + 1}: \").split()))\n",
        "        if len(row) != cols:\n",
        "            print(f\"Please enter exactly {cols} numbers.\")\n",
        "            return create_matrix(rows, cols)  # Re-prompt\n",
        "        matrix.append(row)\n",
        "    return matrix\n",
        "\n",
        "def add_matrices(matrix1, matrix2):\n",
        "    return [[matrix1[i][j] + matrix2[i][j] for j in range(len(matrix1[0]))] for i in range(len(matrix1))]\n",
        "\n",
        "def main():\n",
        "    rows = int(input(\"Enter number of rows: \"))\n",
        "    cols = int(input(\"Enter number of columns: \"))\n",
        "\n",
        "    print(\"Matrix 1:\")\n",
        "    matrix1 = create_matrix(rows, cols)\n",
        "\n",
        "    print(\"Matrix 2:\")\n",
        "    matrix2 = create_matrix(rows, cols)\n",
        "\n",
        "    result_matrix = add_matrices(matrix1, matrix2)\n",
        "\n",
        "    print(\"\\nMatrix 1:\")\n",
        "    for row in matrix1:\n",
        "        print(row)\n",
        "\n",
        "    print(\"\\nMatrix 2:\")\n",
        "    for row in matrix2:\n",
        "        print(row)\n",
        "\n",
        "    print(\"\\nResultant Matrix after Addition:\")\n",
        "    for row in result_matrix:\n",
        "        print(row)\n",
        "\n",
        "if __name__ == \"__main__\":\n",
        "    main()"
      ],
      "metadata": {
        "colab": {
          "base_uri": "https://localhost:8080/"
        },
        "id": "uyb1yBE0McKT",
        "outputId": "34c7f7fc-765d-4708-8210-686b91ab7052"
      },
      "execution_count": 11,
      "outputs": [
        {
          "output_type": "stream",
          "name": "stdout",
          "text": [
            "Enter number of rows: 3 \n",
            "Enter number of columns: 3\n",
            "Matrix 1:\n",
            "Enter the elements of the 3x3 matrix:\n",
            "Row 1: 1 2 3 \n",
            "Row 2: 2 3 4 \n",
            "Row 3: 3 4 5\n",
            "Matrix 2:\n",
            "Enter the elements of the 3x3 matrix:\n",
            "Row 1: 3 2 6\n",
            "Row 2: 3 6 7\n",
            "Row 3: 4 5 0\n",
            "\n",
            "Matrix 1:\n",
            "[1, 2, 3]\n",
            "[2, 3, 4]\n",
            "[3, 4, 5]\n",
            "\n",
            "Matrix 2:\n",
            "[3, 2, 6]\n",
            "[3, 6, 7]\n",
            "[4, 5, 0]\n",
            "\n",
            "Resultant Matrix after Addition:\n",
            "[4, 4, 9]\n",
            "[5, 9, 11]\n",
            "[7, 9, 5]\n"
          ]
        }
      ]
    },
    {
      "cell_type": "markdown",
      "source": [
        "Multiplication of Matrices"
      ],
      "metadata": {
        "id": "0tFoNrEuT_JI"
      }
    },
    {
      "cell_type": "code",
      "source": [
        "def create_matrix(rows, cols):\n",
        "    matrix = []\n",
        "    print(f\"Enter elements for Matrix of size {rows}x{cols}:\")\n",
        "    for i in range(rows):\n",
        "        row = []\n",
        "        for j in range(cols):\n",
        "            element = int(input(f\"Enter element for position ({i+1},{j+1}): \"))\n",
        "            row.append(element)\n",
        "        matrix.append(row)\n",
        "    return matrix\n",
        "\n",
        "def multiply_matrices(matrix1, matrix2):\n",
        "    n = len(matrix1)\n",
        "    result = [[0 for _ in range(n)] for _ in range(n)]\n",
        "\n",
        "    for i in range(n):\n",
        "        for j in range(n):\n",
        "            for k in range(n):\n",
        "                result[i][j] += matrix1[i][k] * matrix2[k][j]\n",
        "\n",
        "    return result\n",
        "\n",
        "n = int(input(\"Enter the size of the matrices (n): \"))\n",
        "\n",
        "print(\"Enter elements for the first matrix:\")\n",
        "matrix1 = create_matrix(n, n)\n",
        "\n",
        "print(\"\\nEnter elements for the second matrix:\")\n",
        "matrix2 = create_matrix(n, n)\n",
        "result_matrix = multiply_matrices(matrix1, matrix2)\n",
        "print(\"\\nMatrix 1:\")\n",
        "for row in matrix1:\n",
        "    print(row)\n",
        "\n",
        "print(\"\\nMatrix 2:\")\n",
        "for row in matrix2:\n",
        "    print(row)\n",
        "\n",
        "print(\"\\nProduct of Matrix 1 and Matrix 2:\")\n",
        "for row in result_matrix:\n",
        "    print(row)"
      ],
      "metadata": {
        "colab": {
          "base_uri": "https://localhost:8080/"
        },
        "id": "Ftz4ciObTdgh",
        "outputId": "bc7de1e9-dd82-4a58-fc03-d8b0543ec939"
      },
      "execution_count": 18,
      "outputs": [
        {
          "output_type": "stream",
          "name": "stdout",
          "text": [
            "Enter the size of the matrices (n): 2\n",
            "Enter elements for the first matrix:\n",
            "Enter elements for Matrix of size 2x2:\n",
            "Enter element for position (1,1): 1\n",
            "Enter element for position (1,2): 2\n",
            "Enter element for position (2,1): 3\n",
            "Enter element for position (2,2): 4\n",
            "\n",
            "Enter elements for the second matrix:\n",
            "Enter elements for Matrix of size 2x2:\n",
            "Enter element for position (1,1): 2\n",
            "Enter element for position (1,2): 3\n",
            "Enter element for position (2,1): 2\n",
            "Enter element for position (2,2): 2\n",
            "\n",
            "Matrix 1:\n",
            "[1, 2]\n",
            "[3, 4]\n",
            "\n",
            "Matrix 2:\n",
            "[2, 3]\n",
            "[2, 2]\n",
            "\n",
            "Product of Matrix 1 and Matrix 2:\n",
            "[6, 7]\n",
            "[14, 17]\n"
          ]
        }
      ]
    },
    {
      "cell_type": "markdown",
      "source": [
        "Subtraction of matrices"
      ],
      "metadata": {
        "id": "SotA5QH6XYmL"
      }
    },
    {
      "cell_type": "code",
      "source": [
        "def matrix_subtraction():\n",
        "    rows = int(input(\"Enter the number of rows: \"))\n",
        "    cols = int(input(\"Enter the number of columns: \"))\n",
        "    matrix1 = []\n",
        "    matrix2 = []\n",
        "    print(\"Enter elements of the first matrix:\")\n",
        "    for i in range(rows):\n",
        "        row = []\n",
        "        for j in range(cols):\n",
        "            element = float(input(f\"Enter element [{i+1}][{j+1}]: \"))\n",
        "            row.append(element)\n",
        "        matrix1.append(row)\n",
        "    print(\"Enter elements of the second matrix:\")\n",
        "    for i in range(rows):\n",
        "        row = []\n",
        "        for j in range(cols):\n",
        "            element = float(input(f\"Enter element [{i+1}][{j+1}]: \"))\n",
        "            row.append(element)\n",
        "        matrix2.append(row)\n",
        "    result_matrix = []\n",
        "    for i in range(rows):\n",
        "        row = []\n",
        "        for j in range(cols):\n",
        "            element = matrix1[i][j] - matrix2[i][j]\n",
        "            row.append(element)\n",
        "        result_matrix.append(row)\n",
        "    print(\"\\nResultant matrix (Matrix1 - Matrix2):\")\n",
        "    for row in result_matrix:\n",
        "        print(row)\n",
        "matrix_subtraction()\n"
      ],
      "metadata": {
        "colab": {
          "base_uri": "https://localhost:8080/"
        },
        "id": "C0YTzj4EYAvc",
        "outputId": "e57e2fec-2b9a-4315-b30b-eb63fbff1e90"
      },
      "execution_count": 23,
      "outputs": [
        {
          "output_type": "stream",
          "name": "stdout",
          "text": [
            "Enter the number of rows: 3\n",
            "Enter the number of columns: 3\n",
            "Enter elements of the first matrix:\n",
            "Enter element [1][1]: 2\n",
            "Enter element [1][2]: 2\n",
            "Enter element [1][3]: 1\n",
            "Enter element [2][1]: 3\n",
            "Enter element [2][2]: 4\n",
            "Enter element [2][3]: 5\n",
            "Enter element [3][1]: 4\n",
            "Enter element [3][2]: 3\n",
            "Enter element [3][3]: 2\n",
            "Enter elements of the second matrix:\n",
            "Enter element [1][1]: 1\n",
            "Enter element [1][2]: 6\n",
            "Enter element [1][3]: 7\n",
            "Enter element [2][1]: 5\n",
            "Enter element [2][2]: 8\n",
            "Enter element [2][3]: 4\n",
            "Enter element [3][1]: 3\n",
            "Enter element [3][2]: 2\n",
            "Enter element [3][3]: 5\n",
            "\n",
            "Resultant matrix (Matrix1 - Matrix2):\n",
            "[1.0, -4.0, -6.0]\n",
            "[-2.0, -4.0, 1.0]\n",
            "[1.0, 1.0, -3.0]\n"
          ]
        }
      ]
    },
    {
      "cell_type": "markdown",
      "source": [
        "Division of matrices"
      ],
      "metadata": {
        "id": "U4DEj2oZY0Sc"
      }
    },
    {
      "cell_type": "code",
      "source": [
        "def matrix_division():\n",
        "    rows = int(input(\"Enter the number of rows: \"))\n",
        "    cols = int(input(\"Enter the number of columns: \"))\n",
        "    matrix1 = []\n",
        "    matrix2 = []\n",
        "    print(\"Enter elements of the first matrix:\")\n",
        "    for i in range(rows):\n",
        "        row = []\n",
        "        for j in range(cols):\n",
        "            element = float(input(f\"Enter element [{i+1}][{j+1}]: \"))\n",
        "            row.append(element)\n",
        "        matrix1.append(row)\n",
        "    print(\"Enter elements of the second matrix:\")\n",
        "    for i in range(rows):\n",
        "        row = []\n",
        "        for j in range(cols):\n",
        "            element = float(input(f\"Enter element [{i+1}][{j+1}]: \"))\n",
        "            row.append(element)\n",
        "        matrix2.append(row)\n",
        "    result_matrix = []\n",
        "    for i in range(rows):\n",
        "        row = []\n",
        "        for j in range(cols):\n",
        "            if matrix2[i][j] != 0:\n",
        "                element = matrix1[i][j] / matrix2[i][j]\n",
        "            else:\n",
        "                print(\"Error: Division by zero encountered.\")\n",
        "                return\n",
        "            row.append(element)\n",
        "        result_matrix.append(row)\n",
        "    print(\"\\nResultant matrix (Matrix1 / Matrix2):\")\n",
        "    for row in result_matrix:\n",
        "        print(row)\n",
        "matrix_division()\n"
      ],
      "metadata": {
        "colab": {
          "base_uri": "https://localhost:8080/"
        },
        "id": "s3vt8ZN3Y5PH",
        "outputId": "a55bd087-b9b2-4b72-eb65-1d0ae6372531"
      },
      "execution_count": 24,
      "outputs": [
        {
          "output_type": "stream",
          "name": "stdout",
          "text": [
            "Enter the number of rows: 3\n",
            "Enter the number of columns: 3\n",
            "Enter elements of the first matrix:\n",
            "Enter element [1][1]: 2\n",
            "Enter element [1][2]: 1\n",
            "Enter element [1][3]: 2\n",
            "Enter element [2][1]: 1\n",
            "Enter element [2][2]: 3\n",
            "Enter element [2][3]: 4\n",
            "Enter element [3][1]: 5\n",
            "Enter element [3][2]: 6\n",
            "Enter element [3][3]: 3\n",
            "Enter elements of the second matrix:\n",
            "Enter element [1][1]: 2\n",
            "Enter element [1][2]: 3\n",
            "Enter element [1][3]: 4\n",
            "Enter element [2][1]: 2\n",
            "Enter element [2][2]: 3\n",
            "Enter element [2][3]: 4\n",
            "Enter element [3][1]: 1\n",
            "Enter element [3][2]: 2\n",
            "Enter element [3][3]: 3\n",
            "\n",
            "Resultant matrix (Matrix1 / Matrix2):\n",
            "[1.0, 0.3333333333333333, 0.5]\n",
            "[0.5, 1.0, 1.0]\n",
            "[5.0, 3.0, 1.0]\n"
          ]
        }
      ]
    },
    {
      "cell_type": "markdown",
      "source": [
        "Transpose of matrices"
      ],
      "metadata": {
        "id": "xfXft9MGaIys"
      }
    },
    {
      "cell_type": "code",
      "source": [
        "def transpose_matrix():\n",
        "    rows = int(input(\"Enter the number of rows: \"))\n",
        "    cols = int(input(\"Enter the number of columns: \"))\n",
        "    matrix = []\n",
        "    print(\"Enter elements of the matrix:\")\n",
        "    for i in range(rows):\n",
        "        row = []\n",
        "        for j in range(cols):\n",
        "            element = float(input(f\"Enter element [{i+1}][{j+1}]: \"))\n",
        "            row.append(element)\n",
        "        matrix.append(row)\n",
        "    transpose = []\n",
        "    for j in range(cols):\n",
        "        transposed_row = []\n",
        "        for i in range(rows):\n",
        "            transposed_row.append(matrix[i][j])\n",
        "        transpose.append(transposed_row)\n",
        "    print(\"\\nOriginal matrix:\")\n",
        "    for row in matrix:\n",
        "        print(row)\n",
        "    print(\"\\nTranspose of the matrix:\")\n",
        "    for row in transpose:\n",
        "        print(row)\n",
        "transpose_matrix()\n"
      ],
      "metadata": {
        "colab": {
          "base_uri": "https://localhost:8080/"
        },
        "id": "DXWKAj2DaLNB",
        "outputId": "74566743-3a04-400a-80e6-26311584793b"
      },
      "execution_count": 25,
      "outputs": [
        {
          "output_type": "stream",
          "name": "stdout",
          "text": [
            "Enter the number of rows: 3\n",
            "Enter the number of columns: 3\n",
            "Enter elements of the matrix:\n",
            "Enter element [1][1]: 2\n",
            "Enter element [1][2]: 3\n",
            "Enter element [1][3]: 2\n",
            "Enter element [2][1]: 3\n",
            "Enter element [2][2]: 1\n",
            "Enter element [2][3]: 4\n",
            "Enter element [3][1]: 1\n",
            "Enter element [3][2]: 4\n",
            "Enter element [3][3]: 2\n",
            "\n",
            "Original matrix:\n",
            "[2.0, 3.0, 2.0]\n",
            "[3.0, 1.0, 4.0]\n",
            "[1.0, 4.0, 2.0]\n",
            "\n",
            "Transpose of the matrix:\n",
            "[2.0, 3.0, 1.0]\n",
            "[3.0, 1.0, 4.0]\n",
            "[2.0, 4.0, 2.0]\n"
          ]
        }
      ]
    }
  ]
}